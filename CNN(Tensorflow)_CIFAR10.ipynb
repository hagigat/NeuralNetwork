{
  "nbformat": 4,
  "nbformat_minor": 0,
  "metadata": {
    "colab": {
      "name": "CNN(Tensorflow)-CIFAR10.ipynb",
      "provenance": [],
      "collapsed_sections": [],
      "authorship_tag": "ABX9TyMXcOTP4ysYwXU+xd1Ln5IK",
      "include_colab_link": true
    },
    "kernelspec": {
      "name": "python3",
      "display_name": "Python 3"
    }
  },
  "cells": [
    {
      "cell_type": "markdown",
      "metadata": {
        "id": "view-in-github",
        "colab_type": "text"
      },
      "source": [
        "<a href=\"https://colab.research.google.com/github/hagigat/NeuralNetwork/blob/master/CNN(Tensorflow)_CIFAR10.ipynb\" target=\"_parent\"><img src=\"https://colab.research.google.com/assets/colab-badge.svg\" alt=\"Open In Colab\"/></a>"
      ]
    },
    {
      "cell_type": "code",
      "metadata": {
        "id": "tyWzsnsVbTUo",
        "colab_type": "code",
        "colab": {}
      },
      "source": [
        "import pandas as pd\n",
        "import numpy as np\n",
        "import tensorflow as tf\n",
        "from tensorflow.keras.layers import Conv2D , Dense , Flatten , MaxPool2D\n",
        "from matplotlib import pyplot as plt\n",
        "from sklearn.preprocessing import normalize"
      ],
      "execution_count": 0,
      "outputs": []
    },
    {
      "cell_type": "code",
      "metadata": {
        "id": "PSBu8ReEcO2L",
        "colab_type": "code",
        "colab": {
          "base_uri": "https://localhost:8080/",
          "height": 51
        },
        "outputId": "8d24f679-09e5-46ff-d39e-2d43c74d2c31"
      },
      "source": [
        "cifar = tf.keras.datasets.cifar10\n",
        "(x_train, y_train) , (x_test, y_test) = cifar.load_data()"
      ],
      "execution_count": 2,
      "outputs": [
        {
          "output_type": "stream",
          "text": [
            "Downloading data from https://www.cs.toronto.edu/~kriz/cifar-10-python.tar.gz\n",
            "170500096/170498071 [==============================] - 2s 0us/step\n"
          ],
          "name": "stdout"
        }
      ]
    },
    {
      "cell_type": "code",
      "metadata": {
        "id": "GMMQNHFKe2Qa",
        "colab_type": "code",
        "colab": {}
      },
      "source": [
        "x_train = x_train / 255\n",
        "x_test = x_test / 255"
      ],
      "execution_count": 0,
      "outputs": []
    },
    {
      "cell_type": "code",
      "metadata": {
        "id": "9UeT2ukSf7L0",
        "colab_type": "code",
        "outputId": "400275c1-b237-4c98-ef2a-2677a51f62b4",
        "colab": {
          "base_uri": "https://localhost:8080/",
          "height": 34
        }
      },
      "source": [
        "print(x_train.shape)\n",
        "x_train = x_train.reshape(x_train.shape[0], x_train.shape[1], x_train.shape[2], 3)\n",
        "x_test = x_test.reshape(x_test.shape[0], x_test.shape[1], x_test.shape[2], 3)"
      ],
      "execution_count": 4,
      "outputs": [
        {
          "output_type": "stream",
          "text": [
            "(50000, 32, 32, 3)\n"
          ],
          "name": "stdout"
        }
      ]
    },
    {
      "cell_type": "code",
      "metadata": {
        "id": "8ySiEY68gjX7",
        "colab_type": "code",
        "outputId": "93ea148a-5f7e-40b7-b54d-204c8c73f4ad",
        "colab": {
          "base_uri": "https://localhost:8080/",
          "height": 425
        }
      },
      "source": [
        "model = tf.keras.models.Sequential([\n",
        "    Conv2D(32, (3, 3), activation='relu', input_shape=(32, 32, 3)),\n",
        "    Conv2D(32, (3, 3), activation='relu'),\n",
        "    MaxPool2D((2, 2)),\n",
        "    Conv2D(64, (3, 3), activation='relu'),\n",
        "    Conv2D(64, (3, 3), activation='relu'),\n",
        "    Flatten(),\n",
        "    Dense(64, activation='relu'),\n",
        "    Dense(10, activation='softmax'),\n",
        "])\n",
        "model.summary()"
      ],
      "execution_count": 23,
      "outputs": [
        {
          "output_type": "stream",
          "text": [
            "Model: \"sequential_13\"\n",
            "_________________________________________________________________\n",
            "Layer (type)                 Output Shape              Param #   \n",
            "=================================================================\n",
            "conv2d_59 (Conv2D)           (None, 30, 30, 32)        896       \n",
            "_________________________________________________________________\n",
            "conv2d_60 (Conv2D)           (None, 28, 28, 32)        9248      \n",
            "_________________________________________________________________\n",
            "max_pooling2d_8 (MaxPooling2 (None, 14, 14, 32)        0         \n",
            "_________________________________________________________________\n",
            "conv2d_61 (Conv2D)           (None, 12, 12, 64)        18496     \n",
            "_________________________________________________________________\n",
            "conv2d_62 (Conv2D)           (None, 10, 10, 64)        36928     \n",
            "_________________________________________________________________\n",
            "flatten_13 (Flatten)         (None, 6400)              0         \n",
            "_________________________________________________________________\n",
            "dense_26 (Dense)             (None, 64)                409664    \n",
            "_________________________________________________________________\n",
            "dense_27 (Dense)             (None, 10)                650       \n",
            "=================================================================\n",
            "Total params: 475,882\n",
            "Trainable params: 475,882\n",
            "Non-trainable params: 0\n",
            "_________________________________________________________________\n"
          ],
          "name": "stdout"
        }
      ]
    },
    {
      "cell_type": "code",
      "metadata": {
        "id": "BhYY458phKQS",
        "colab_type": "code",
        "outputId": "278d0395-47f2-4ec4-9525-ff8f175c896a",
        "colab": {
          "base_uri": "https://localhost:8080/",
          "height": 187
        }
      },
      "source": [
        "model.compile(optimizer = 'adam', \n",
        "              loss = tf.keras.losses.sparse_categorical_crossentropy, \n",
        "              metrics=['accuracy'])\n",
        "output = model.fit(x_train, y_train, \n",
        "                   epochs = 5,\n",
        "                   validation_data = (x_test, y_test) , shuffle = 'true')"
      ],
      "execution_count": 24,
      "outputs": [
        {
          "output_type": "stream",
          "text": [
            "Epoch 1/5\n",
            "1563/1563 [==============================] - 164s 105ms/step - loss: 1.4486 - accuracy: 0.4746 - val_loss: 1.2105 - val_accuracy: 0.5682\n",
            "Epoch 2/5\n",
            "1563/1563 [==============================] - 169s 108ms/step - loss: 1.0247 - accuracy: 0.6394 - val_loss: 1.0092 - val_accuracy: 0.6481\n",
            "Epoch 3/5\n",
            "1563/1563 [==============================] - 167s 107ms/step - loss: 0.8353 - accuracy: 0.7082 - val_loss: 0.8808 - val_accuracy: 0.6954\n",
            "Epoch 4/5\n",
            "1563/1563 [==============================] - 168s 108ms/step - loss: 0.7206 - accuracy: 0.7485 - val_loss: 0.7985 - val_accuracy: 0.7230\n",
            "Epoch 5/5\n",
            "1563/1563 [==============================] - 169s 108ms/step - loss: 0.6284 - accuracy: 0.7801 - val_loss: 0.7759 - val_accuracy: 0.7382\n"
          ],
          "name": "stdout"
        }
      ]
    },
    {
      "cell_type": "code",
      "metadata": {
        "id": "We-mZPXchaz4",
        "colab_type": "code",
        "colab": {
          "base_uri": "https://localhost:8080/",
          "height": 265
        },
        "outputId": "9fa06c31-e59c-4c21-a09f-4d5ef53a6999"
      },
      "source": [
        "train_loss = output.history['loss']\n",
        "train_acc = output.history['accuracy']\n",
        "\n",
        "plt.plot(train_loss)\n",
        "plt.plot(train_acc)\n",
        "plt.show()"
      ],
      "execution_count": 7,
      "outputs": [
        {
          "output_type": "display_data",
          "data": {
            "image/png": "[encoded data removed]",
            "text/plain": [
              "<Figure size 432x288 with 1 Axes>"
            ]
          },
          "metadata": {
            "tags": [],
            "needs_background": "light"
          }
        }
      ]
    },
    {
      "cell_type": "code",
      "metadata": {
        "id": "j8umtaemhgQw",
        "colab_type": "code",
        "colab": {
          "base_uri": "https://localhost:8080/",
          "height": 51
        },
        "outputId": "6cfe394f-fda7-4664-c87b-5f5ce4dfb408"
      },
      "source": [
        "model.evaluate(x_test, y_test)"
      ],
      "execution_count": 8,
      "outputs": [
        {
          "output_type": "stream",
          "text": [
            "313/313 [==============================] - 6s 20ms/step - loss: 0.9416 - accuracy: 0.6690\n"
          ],
          "name": "stdout"
        },
        {
          "output_type": "execute_result",
          "data": {
            "text/plain": [
              "[0.941648542881012, 0.6690000295639038]"
            ]
          },
          "metadata": {
            "tags": []
          },
          "execution_count": 8
        }
      ]
    }
  ]
}