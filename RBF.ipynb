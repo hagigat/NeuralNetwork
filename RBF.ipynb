{
  "nbformat": 4,
  "nbformat_minor": 0,
  "metadata": {
    "colab": {
      "name": "RBF.ipynb",
      "provenance": [],
      "collapsed_sections": [],
      "authorship_tag": "ABX9TyMHIJ0kDcytPB1zso+FFLUv",
      "include_colab_link": true
    },
    "kernelspec": {
      "name": "python3",
      "display_name": "Python 3"
    }
  },
  "cells": [
    {
      "cell_type": "markdown",
      "metadata": {
        "id": "view-in-github",
        "colab_type": "text"
      },
      "source": [
        "<a href=\"https://colab.research.google.com/github/hagigat/NeuralNetwork/blob/master/RBF.ipynb\" target=\"_parent\"><img src=\"https://colab.research.google.com/assets/colab-badge.svg\" alt=\"Open In Colab\"/></a>"
      ]
    },
    {
      "cell_type": "code",
      "metadata": {
        "id": "lSCx14lyi57G",
        "colab_type": "code",
        "colab": {}
      },
      "source": [
        "import numpy as np\n",
        "import pandas as pd\n",
        "import matplotlib as plt\n",
        "import math\n",
        "import scipy.spatial.distance as sc"
      ],
      "execution_count": 0,
      "outputs": []
    },
    {
      "cell_type": "code",
      "metadata": {
        "id": "nywYu6aHi7PD",
        "colab_type": "code",
        "colab": {}
      },
      "source": [
        "class RBF:\n",
        "  def __init__(self, X, Y, nlmax, nclass):\n",
        "    self.nl = 0\n",
        "    self.nclass = nclass\n",
        "    self.X = self.normalize(X)\n",
        "    self.Y = Y\n",
        "    self.centroid = []\n",
        "    self.weight = []\n",
        "    self.std = self.sigma()\n",
        "    self.nlmax = len(X) / 2\n",
        "\n",
        "  def sigma(self):\n",
        "    return np.amax(sc.pdist(self.X, 'euclidean')) / np.sqrt(2*self.nclass)\n",
        "\n",
        "  def w_opt(self, O , D):\n",
        "     tmp = np.inverse(np.dot(O, O.T))\n",
        "     self.weight = np.dot(np.dot(D, O.T), tmp)\n",
        "  \n",
        "  def normalize(self, X):\n",
        "    for i in range(X.shape[1]):\n",
        "      X[:,i] = (X[:,i] - X[:,i].mean()) / np.std(X[:,i])\n",
        "\n",
        "  def Train(self):\n",
        "    #RBF Train\n",
        "    for i in range(self.nlmax):\n",
        "      self.nl += 1\n",
        "\n",
        "\n",
        "  def sigmoid(self, z):\n",
        "     result = 1.0 / (1.0 + np.exp(-z))\n",
        "     return result\n",
        "\n",
        "  def relu(self, z):\n",
        "    if np.isscalar(z):\n",
        "       result = np.max((z, 0))\n",
        "    else:\n",
        "       zero_aux = np.zeros(z.shape)\n",
        "       meta_z = np.stack((z, zero_aux), axis=-1)\n",
        "       result = np.max(meta_z, axis=-1)\n",
        "       return result  \n"
      ],
      "execution_count": 0,
      "outputs": []
    },
    {
      "cell_type": "code",
      "metadata": {
        "id": "VLYLEXS9v3Rk",
        "colab_type": "code",
        "colab": {
          "base_uri": "https://localhost:8080/",
          "height": 35
        },
        "outputId": "c60abbc3-cf1f-45a4-e60c-ecb1c7c99da8"
      },
      "source": [
        ""
      ],
      "execution_count": 15,
      "outputs": [
        {
          "output_type": "stream",
          "text": [
            "5.656854249492381\n"
          ],
          "name": "stdout"
        }
      ]
    }
  ]
}