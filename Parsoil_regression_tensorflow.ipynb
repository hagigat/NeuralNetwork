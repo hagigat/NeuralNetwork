{
  "nbformat": 4,
  "nbformat_minor": 0,
  "metadata": {
    "colab": {
      "name": "Parsoil-regression-tensorflow.ipynb",
      "provenance": [],
      "collapsed_sections": [],
      "authorship_tag": "ABX9TyO9m2I/KWDwzR5d863X2zSf",
      "include_colab_link": true
    },
    "kernelspec": {
      "name": "python3",
      "display_name": "Python 3"
    }
  },
  "cells": [
    {
      "cell_type": "markdown",
      "metadata": {
        "id": "view-in-github",
        "colab_type": "text"
      },
      "source": [
        "<a href=\"https://colab.research.google.com/github/hagigat/NeuralNetwork/blob/master/Parsoil_regression_tensorflow.ipynb\" target=\"_parent\"><img src=\"https://colab.research.google.com/assets/colab-badge.svg\" alt=\"Open In Colab\"/></a>"
      ]
    },
    {
      "cell_type": "markdown",
      "metadata": {
        "id": "6EuaTZctEUtb",
        "colab_type": "text"
      },
      "source": [
        "IN THE NAME OF GOD\n",
        "\n",
        "\n",
        "> Sajjad Haghighat\n",
        "\n",
        "\n",
        "> Parsoil Regression with Tensorflow\n",
        "\n",
        "\n",
        "\n"
      ]
    },
    {
      "cell_type": "code",
      "metadata": {
        "id": "n-Q_3Q_hYP0C",
        "colab_type": "code",
        "colab": {}
      },
      "source": [
        "import tensorflow as tf\n",
        "import pandas as pd\n",
        "import numpy as np\n",
        "from tensorflow.keras.layers import Dense\n",
        "from sklearn import preprocessing\n",
        "import matplotlib.pyplot as plt"
      ],
      "execution_count": 0,
      "outputs": []
    },
    {
      "cell_type": "code",
      "metadata": {
        "id": "7O-h5j6DbFSn",
        "colab_type": "code",
        "colab": {}
      },
      "source": [
        "def normalize(X):\n",
        "    for i in range(X.shape[1]):\n",
        "        X[:, i] = (X[:, i] - X[:, i].mean()) / np.std(X[:, i])\n",
        "    return X\n",
        "def Ynormalize(X):\n",
        "    X = (X - X.mean()) / np.std(X)\n",
        "    return X    "
      ],
      "execution_count": 0,
      "outputs": []
    },
    {
      "cell_type": "code",
      "metadata": {
        "id": "IAFlgveSYqt_",
        "colab_type": "code",
        "outputId": "7f391a94-f782-4c8b-8331-d6438d889f8c",
        "colab": {
          "base_uri": "https://localhost:8080/",
          "height": 102
        }
      },
      "source": [
        "traindata = pd.read_csv('parsoil_train.csv')\n",
        "traindata.dropna()\n",
        "print(traindata.head(2))\n",
        "y_train = Ynormalize(np.array(traindata[[\"CLOSE\"]]))\n",
        "traindata.drop('CLOSE',axis = 1, inplace = True)\n",
        "x_train = normalize(np.array(traindata))"
      ],
      "execution_count": 193,
      "outputs": [
        {
          "output_type": "stream",
          "text": [
            "   DTYYYYMMDD  FIRST  HIGH   LOW  ...      VOL  OPENINT  OPEN  LAST\n",
            "0    20190319   9077  9077  8850  ...  1168831      399  8645  9000\n",
            "1    20190318   8646  8646  8474  ...  1528522      283  8235  8646\n",
            "\n",
            "[2 rows x 10 columns]\n"
          ],
          "name": "stdout"
        }
      ]
    },
    {
      "cell_type": "code",
      "metadata": {
        "id": "d4Rem4BlZFRf",
        "colab_type": "code",
        "outputId": "98321629-a2f1-42aa-d098-fe7e511d4236",
        "colab": {
          "base_uri": "https://localhost:8080/",
          "height": 102
        }
      },
      "source": [
        "testdata = pd.read_csv('parsoil_test.csv')\n",
        "testdata.dropna()\n",
        "print(testdata.head(2))\n",
        "y_test = Ynormalize(np.array(testdata[[\"CLOSE\"]]))\n",
        "testdata.drop('CLOSE',axis = 1, inplace = True)\n",
        "x_test = normalize(np.array(testdata))"
      ],
      "execution_count": 194,
      "outputs": [
        {
          "output_type": "stream",
          "text": [
            "   DTYYYYMMDD  FIRST   HIGH    LOW  ...     VOL  OPENINT   OPEN   LAST\n",
            "0    20190806  13401  13401  12981  ...  601485      408  13496  13110\n",
            "1    20190805  13881  14000  13200  ...  647648      327  13785  13548\n",
            "\n",
            "[2 rows x 10 columns]\n"
          ],
          "name": "stdout"
        }
      ]
    },
    {
      "cell_type": "code",
      "metadata": {
        "id": "0BwuDthndRXO",
        "colab_type": "code",
        "colab": {}
      },
      "source": [
        "model = tf.keras.models.Sequential([\n",
        "        Dense(27, input_dim=9 ,activation=\"sigmoid\"),\n",
        "        Dense(18, activation=\"sigmoid\"),\n",
        "        Dense(9, activation=\"sigmoid\"),\n",
        "        Dense(1),\n",
        "])"
      ],
      "execution_count": 0,
      "outputs": []
    },
    {
      "cell_type": "code",
      "metadata": {
        "id": "3B7Dfx2ce7FO",
        "colab_type": "code",
        "colab": {}
      },
      "source": [
        "model.compile(optimizer = tf.keras.optimizers.Adagrad(learning_rate=0.2),\n",
        "              loss='mean_squared_error',\n",
        "              metrics=['mse'])"
      ],
      "execution_count": 0,
      "outputs": []
    },
    {
      "cell_type": "code",
      "metadata": {
        "id": "Zzje3zkme71j",
        "colab_type": "code",
        "outputId": "ed51b374-5cd1-41cd-90b5-09f8fc92314e",
        "colab": {
          "base_uri": "https://localhost:8080/",
          "height": 1000
        }
      },
      "source": [
        "output = model.fit(x_train, y_train, epochs=50, shuffle=True)"
      ],
      "execution_count": 197,
      "outputs": [
        {
          "output_type": "stream",
          "text": [
            "Epoch 1/50\n",
            "108/108 [==============================] - 0s 1ms/step - loss: 0.2338 - mse: 0.2338\n",
            "Epoch 2/50\n",
            "108/108 [==============================] - 0s 1ms/step - loss: 0.0301 - mse: 0.0301\n",
            "Epoch 3/50\n",
            "108/108 [==============================] - 0s 1ms/step - loss: 0.0187 - mse: 0.0187\n",
            "Epoch 4/50\n",
            "108/108 [==============================] - 0s 1ms/step - loss: 0.0143 - mse: 0.0143\n",
            "Epoch 5/50\n",
            "108/108 [==============================] - 0s 1ms/step - loss: 0.0090 - mse: 0.0090\n",
            "Epoch 6/50\n",
            "108/108 [==============================] - 0s 1ms/step - loss: 0.0077 - mse: 0.0077\n",
            "Epoch 7/50\n",
            "108/108 [==============================] - 0s 1ms/step - loss: 0.0061 - mse: 0.0061\n",
            "Epoch 8/50\n",
            "108/108 [==============================] - 0s 1ms/step - loss: 0.0036 - mse: 0.0036\n",
            "Epoch 9/50\n",
            "108/108 [==============================] - 0s 1ms/step - loss: 0.0045 - mse: 0.0045\n",
            "Epoch 10/50\n",
            "108/108 [==============================] - 0s 1ms/step - loss: 0.0027 - mse: 0.0027\n",
            "Epoch 11/50\n",
            "108/108 [==============================] - 0s 1ms/step - loss: 0.0031 - mse: 0.0031\n",
            "Epoch 12/50\n",
            "108/108 [==============================] - 0s 1ms/step - loss: 0.0026 - mse: 0.0026\n",
            "Epoch 13/50\n",
            "108/108 [==============================] - 0s 1ms/step - loss: 0.0018 - mse: 0.0018\n",
            "Epoch 14/50\n",
            "108/108 [==============================] - 0s 1ms/step - loss: 0.0023 - mse: 0.0023\n",
            "Epoch 15/50\n",
            "108/108 [==============================] - 0s 1ms/step - loss: 0.0018 - mse: 0.0018\n",
            "Epoch 16/50\n",
            "108/108 [==============================] - 0s 1ms/step - loss: 0.0016 - mse: 0.0016\n",
            "Epoch 17/50\n",
            "108/108 [==============================] - 0s 1ms/step - loss: 0.0014 - mse: 0.0014\n",
            "Epoch 18/50\n",
            "108/108 [==============================] - 0s 1ms/step - loss: 0.0015 - mse: 0.0015\n",
            "Epoch 19/50\n",
            "108/108 [==============================] - 0s 1ms/step - loss: 0.0014 - mse: 0.0014\n",
            "Epoch 20/50\n",
            "108/108 [==============================] - 0s 1ms/step - loss: 0.0012 - mse: 0.0012\n",
            "Epoch 21/50\n",
            "108/108 [==============================] - 0s 1ms/step - loss: 0.0010 - mse: 0.0010\n",
            "Epoch 22/50\n",
            "108/108 [==============================] - 0s 1ms/step - loss: 0.0011 - mse: 0.0011\n",
            "Epoch 23/50\n",
            "108/108 [==============================] - 0s 1ms/step - loss: 0.0012 - mse: 0.0012\n",
            "Epoch 24/50\n",
            "108/108 [==============================] - 0s 1ms/step - loss: 0.0012 - mse: 0.0012\n",
            "Epoch 25/50\n",
            "108/108 [==============================] - 0s 1ms/step - loss: 9.8410e-04 - mse: 9.8410e-04\n",
            "Epoch 26/50\n",
            "108/108 [==============================] - 0s 1ms/step - loss: 0.0012 - mse: 0.0012\n",
            "Epoch 27/50\n",
            "108/108 [==============================] - 0s 1ms/step - loss: 9.8335e-04 - mse: 9.8335e-04\n",
            "Epoch 28/50\n",
            "108/108 [==============================] - 0s 1ms/step - loss: 0.0010 - mse: 0.0010\n",
            "Epoch 29/50\n",
            "108/108 [==============================] - 0s 1ms/step - loss: 9.1744e-04 - mse: 9.1744e-04\n",
            "Epoch 30/50\n",
            "108/108 [==============================] - 0s 1ms/step - loss: 8.4789e-04 - mse: 8.4789e-04\n",
            "Epoch 31/50\n",
            "108/108 [==============================] - 0s 1ms/step - loss: 9.7552e-04 - mse: 9.7552e-04\n",
            "Epoch 32/50\n",
            "108/108 [==============================] - 0s 1ms/step - loss: 0.0010 - mse: 0.0010\n",
            "Epoch 33/50\n",
            "108/108 [==============================] - 0s 1ms/step - loss: 8.1139e-04 - mse: 8.1139e-04\n",
            "Epoch 34/50\n",
            "108/108 [==============================] - 0s 1ms/step - loss: 8.4840e-04 - mse: 8.4840e-04\n",
            "Epoch 35/50\n",
            "108/108 [==============================] - 0s 1ms/step - loss: 0.0010 - mse: 0.0010\n",
            "Epoch 36/50\n",
            "108/108 [==============================] - 0s 1ms/step - loss: 7.7084e-04 - mse: 7.7084e-04\n",
            "Epoch 37/50\n",
            "108/108 [==============================] - 0s 1ms/step - loss: 8.7136e-04 - mse: 8.7136e-04\n",
            "Epoch 38/50\n",
            "108/108 [==============================] - 0s 1ms/step - loss: 0.0011 - mse: 0.0011\n",
            "Epoch 39/50\n",
            "108/108 [==============================] - 0s 1ms/step - loss: 7.4837e-04 - mse: 7.4837e-04\n",
            "Epoch 40/50\n",
            "108/108 [==============================] - 0s 1ms/step - loss: 7.8821e-04 - mse: 7.8821e-04\n",
            "Epoch 41/50\n",
            "108/108 [==============================] - 0s 1ms/step - loss: 7.8952e-04 - mse: 7.8952e-04\n",
            "Epoch 42/50\n",
            "108/108 [==============================] - 0s 1ms/step - loss: 6.9897e-04 - mse: 6.9897e-04\n",
            "Epoch 43/50\n",
            "108/108 [==============================] - 0s 1ms/step - loss: 8.5939e-04 - mse: 8.5939e-04\n",
            "Epoch 44/50\n",
            "108/108 [==============================] - 0s 1ms/step - loss: 7.6225e-04 - mse: 7.6225e-04\n",
            "Epoch 45/50\n",
            "108/108 [==============================] - 0s 1ms/step - loss: 8.3383e-04 - mse: 8.3383e-04\n",
            "Epoch 46/50\n",
            "108/108 [==============================] - 0s 1ms/step - loss: 8.0829e-04 - mse: 8.0829e-04\n",
            "Epoch 47/50\n",
            "108/108 [==============================] - 0s 1ms/step - loss: 6.7610e-04 - mse: 6.7610e-04\n",
            "Epoch 48/50\n",
            "108/108 [==============================] - 0s 1ms/step - loss: 7.6544e-04 - mse: 7.6544e-04\n",
            "Epoch 49/50\n",
            "108/108 [==============================] - 0s 1ms/step - loss: 6.8998e-04 - mse: 6.8998e-04\n",
            "Epoch 50/50\n",
            "108/108 [==============================] - 0s 1ms/step - loss: 7.6376e-04 - mse: 7.6376e-04\n"
          ],
          "name": "stdout"
        }
      ]
    },
    {
      "cell_type": "code",
      "metadata": {
        "id": "mm5IJIkFhZZl",
        "colab_type": "code",
        "outputId": "ef2b1adf-9730-4ecd-daa0-039ad4958237",
        "colab": {
          "base_uri": "https://localhost:8080/",
          "height": 265
        }
      },
      "source": [
        "plt.plot(output.history['loss'])\n",
        "plt.show()"
      ],
      "execution_count": 198,
      "outputs": [
        {
          "output_type": "display_data",
          "data": {
            "image/png": "[encoded data removed]",
            "text/plain": [
              "<Figure size 432x288 with 1 Axes>"
            ]
          },
          "metadata": {
            "tags": [],
            "needs_background": "light"
          }
        }
      ]
    },
    {
      "cell_type": "code",
      "metadata": {
        "id": "Q1wz5oA7fG38",
        "colab_type": "code",
        "outputId": "25146033-5d6b-4a0f-c509-24de1453afa5",
        "colab": {
          "base_uri": "https://localhost:8080/",
          "height": 51
        }
      },
      "source": [
        "model.evaluate(x_test, y_test)"
      ],
      "execution_count": 199,
      "outputs": [
        {
          "output_type": "stream",
          "text": [
            "2/2 [==============================] - 0s 2ms/step - loss: 0.0174 - mse: 0.0174\n"
          ],
          "name": "stdout"
        },
        {
          "output_type": "execute_result",
          "data": {
            "text/plain": [
              "[0.0173763670027256, 0.0173763670027256]"
            ]
          },
          "metadata": {
            "tags": []
          },
          "execution_count": 199
        }
      ]
    },
    {
      "cell_type": "code",
      "metadata": {
        "id": "0-6ITdTd_47P",
        "colab_type": "code",
        "colab": {
          "base_uri": "https://localhost:8080/",
          "height": 265
        },
        "outputId": "67162bc0-b536-4ec9-e8ac-68e6e6b439d4"
      },
      "source": [
        "Y = model.predict(x_test)\n",
        "plt.plot(Y , color=\"red\" , label='predict')\n",
        "plt.plot(y_test , color=\"blue\", label='real')\n",
        "plt.legend(loc=\"upper left\")\n",
        "plt.show()"
      ],
      "execution_count": 200,
      "outputs": [
        {
          "output_type": "display_data",
          "data": {
            "image/png": "[encoded data removed]",
            "text/plain": [
              "<Figure size 432x288 with 1 Axes>"
            ]
          },
          "metadata": {
            "tags": [],
            "needs_background": "light"
          }
        }
      ]
    },
    {
      "cell_type": "code",
      "metadata": {
        "id": "lQYYADydfHx0",
        "colab_type": "code",
        "outputId": "4b2fab1d-2ea2-4633-ae54-b0fe002b01c4",
        "colab": {
          "base_uri": "https://localhost:8080/",
          "height": 1000
        }
      },
      "source": [
        "\n",
        "for i in range(len(Y)):\n",
        "  print(\"Actual :\", y_test[i],\"\\tPredict : \", Y[i][0])\n",
        "  print('___________________________________________')"
      ],
      "execution_count": 201,
      "outputs": [
        {
          "output_type": "stream",
          "text": [
            "Actual : [0.31837532] \tPredict :  0.36993653\n",
            "___________________________________________\n",
            "Actual : [0.47692357] \tPredict :  0.52965254\n",
            "___________________________________________\n",
            "Actual : [0.60143564] \tPredict :  0.6085317\n",
            "___________________________________________\n",
            "Actual : [0.69794326] \tPredict :  0.69117033\n",
            "___________________________________________\n",
            "Actual : [0.7018208] \tPredict :  0.71101487\n",
            "___________________________________________\n",
            "Actual : [0.6983741] \tPredict :  0.7418904\n",
            "___________________________________________\n",
            "Actual : [0.68200227] \tPredict :  0.63393015\n",
            "___________________________________________\n",
            "Actual : [0.59712726] \tPredict :  0.62726897\n",
            "___________________________________________\n",
            "Actual : [0.80866853] \tPredict :  0.90076655\n",
            "___________________________________________\n",
            "Actual : [1.12231832] \tPredict :  1.0197126\n",
            "___________________________________________\n",
            "Actual : [1.18349726] \tPredict :  1.1314068\n",
            "___________________________________________\n",
            "Actual : [1.35970985] \tPredict :  1.4265367\n",
            "___________________________________________\n",
            "Actual : [1.60571813] \tPredict :  1.52884\n",
            "___________________________________________\n",
            "Actual : [1.29336085] \tPredict :  1.2521603\n",
            "___________________________________________\n",
            "Actual : [1.1438602] \tPredict :  0.99761146\n",
            "___________________________________________\n",
            "Actual : [0.87631004] \tPredict :  0.87554324\n",
            "___________________________________________\n",
            "Actual : [0.88665014] \tPredict :  0.9813416\n",
            "___________________________________________\n",
            "Actual : [1.14472187] \tPredict :  1.2762598\n",
            "___________________________________________\n",
            "Actual : [1.44975491] \tPredict :  1.4454968\n",
            "___________________________________________\n",
            "Actual : [1.5195506] \tPredict :  1.575588\n",
            "___________________________________________\n",
            "Actual : [1.76512804] \tPredict :  1.6445532\n",
            "___________________________________________\n",
            "Actual : [1.44070732] \tPredict :  1.3662101\n",
            "___________________________________________\n",
            "Actual : [1.13481261] \tPredict :  1.0776712\n",
            "___________________________________________\n",
            "Actual : [0.96592426] \tPredict :  0.9514509\n",
            "___________________________________________\n",
            "Actual : [0.66692296] \tPredict :  0.6101167\n",
            "___________________________________________\n",
            "Actual : [0.38774018] \tPredict :  0.39649165\n",
            "___________________________________________\n",
            "Actual : [0.33733218] \tPredict :  0.42396805\n",
            "___________________________________________\n",
            "Actual : [0.33560883] \tPredict :  0.45809844\n",
            "___________________________________________\n",
            "Actual : [0.26925983] \tPredict :  0.2776679\n",
            "___________________________________________\n",
            "Actual : [0.26495146] \tPredict :  0.22269851\n",
            "___________________________________________\n",
            "Actual : [0.11588164] \tPredict :  0.15967071\n",
            "___________________________________________\n",
            "Actual : [0.20549587] \tPredict :  0.28455114\n",
            "___________________________________________\n",
            "Actual : [0.4967421] \tPredict :  0.43561092\n",
            "___________________________________________\n",
            "Actual : [0.33431631] \tPredict :  0.30751044\n",
            "___________________________________________\n",
            "Actual : [0.09089306] \tPredict :  0.1013639\n",
            "___________________________________________\n",
            "Actual : [-0.1434826] \tPredict :  -0.16207522\n",
            "___________________________________________\n",
            "Actual : [-0.38604418] \tPredict :  -0.39860412\n",
            "___________________________________________\n",
            "Actual : [-0.47479673] \tPredict :  -0.544916\n",
            "___________________________________________\n",
            "Actual : [-0.66479612] \tPredict :  -0.6003941\n",
            "___________________________________________\n",
            "Actual : [-0.45756323] \tPredict :  -0.44956902\n",
            "___________________________________________\n",
            "Actual : [-0.25851625] \tPredict :  -0.24381357\n",
            "___________________________________________\n",
            "Actual : [-0.18613553] \tPredict :  -0.350159\n",
            "___________________________________________\n",
            "Actual : [-0.50624788] \tPredict :  -0.5341912\n",
            "___________________________________________\n",
            "Actual : [-0.73631517] \tPredict :  -0.74961525\n",
            "___________________________________________\n",
            "Actual : [-0.95518068] \tPredict :  -0.77943224\n",
            "___________________________________________\n",
            "Actual : [-0.99309439] \tPredict :  -0.7922312\n",
            "___________________________________________\n",
            "Actual : [-1.0081737] \tPredict :  -0.9660607\n",
            "___________________________________________\n",
            "Actual : [-1.21411409] \tPredict :  -1.0355152\n",
            "___________________________________________\n",
            "Actual : [-1.22402335] \tPredict :  -1.0818341\n",
            "___________________________________________\n",
            "Actual : [-1.20463566] \tPredict :  -1.0618687\n",
            "___________________________________________\n",
            "Actual : [-1.18438629] \tPredict :  -1.0580236\n",
            "___________________________________________\n",
            "Actual : [-1.24556523] \tPredict :  -1.0829222\n",
            "___________________________________________\n",
            "Actual : [-1.23350178] \tPredict :  -1.0603873\n",
            "___________________________________________\n",
            "Actual : [-1.23737932] \tPredict :  -1.074562\n",
            "___________________________________________\n",
            "Actual : [-1.23781015] \tPredict :  -1.0795053\n",
            "___________________________________________\n",
            "Actual : [-1.24987361] \tPredict :  -1.0556798\n",
            "___________________________________________\n",
            "Actual : [-1.2796014] \tPredict :  -1.1340138\n",
            "___________________________________________\n",
            "Actual : [-1.46486158] \tPredict :  -1.1838837\n",
            "___________________________________________\n",
            "Actual : [-1.46830828] \tPredict :  -1.162519\n",
            "___________________________________________\n",
            "Actual : [-1.47046247] \tPredict :  -1.1490653\n",
            "___________________________________________\n",
            "Actual : [-1.51699293] \tPredict :  -1.1892732\n",
            "___________________________________________\n",
            "Actual : [-1.51053037] \tPredict :  -1.1903639\n",
            "___________________________________________\n",
            "Actual : [-1.4674466] \tPredict :  -1.1782022\n",
            "___________________________________________\n"
          ],
          "name": "stdout"
        }
      ]
    }
  ]
}