{
  "nbformat": 4,
  "nbformat_minor": 0,
  "metadata": {
    "colab": {
      "name": "Hopfield.ipynb",
      "provenance": [],
      "collapsed_sections": [],
      "authorship_tag": "ABX9TyPPCFGoHGgfLE5nAeU+ZafE",
      "include_colab_link": true
    },
    "kernelspec": {
      "name": "python3",
      "display_name": "Python 3"
    }
  },
  "cells": [
    {
      "cell_type": "markdown",
      "metadata": {
        "id": "view-in-github",
        "colab_type": "text"
      },
      "source": [
        "<a href=\"https://colab.research.google.com/github/hagigat/NeuralNetwork/blob/master/Hopfield.ipynb\" target=\"_parent\"><img src=\"https://colab.research.google.com/assets/colab-badge.svg\" alt=\"Open In Colab\"/></a>"
      ]
    },
    {
      "cell_type": "markdown",
      "metadata": {
        "id": "5KbhjP5K9BMG",
        "colab_type": "text"
      },
      "source": [
        "IN THE NAME OF GOD\n",
        "\n",
        "\n",
        "> Sajjad haghighat\n",
        "\n",
        "> Hopfield for solve TSP problem\n",
        "\n"
      ]
    },
    {
      "cell_type": "code",
      "metadata": {
        "id": "YC-UGTN9LoJO",
        "colab_type": "code",
        "colab": {}
      },
      "source": [
        "import numpy as np\n",
        "from random import randint\n",
        "from random import uniform\n",
        "import matplotlib.pyplot as plt\n",
        "import scipy.spatial.distance as sc"
      ],
      "execution_count": 0,
      "outputs": []
    },
    {
      "cell_type": "code",
      "metadata": {
        "id": "oGFd6LygyAyy",
        "colab_type": "code",
        "colab": {}
      },
      "source": [
        "def kdelta(x, y):\n",
        "      if x == y:\n",
        "          return 1\n",
        "      return 0"
      ],
      "execution_count": 0,
      "outputs": []
    },
    {
      "cell_type": "code",
      "metadata": {
        "id": "pra_ZeKJLtgV",
        "colab_type": "code",
        "colab": {}
      },
      "source": [
        "class Hopfield:\n",
        "    def __init__(self, cities, dist):\n",
        "        self.cities = cities\n",
        "        self.neurons = cities**2\n",
        "        self.d = dist\n",
        "        self.w = np.zeros([self.neurons, self.neurons])\n",
        "        self.T = self.neurons**2\n",
        "        self.xti = {}\n",
        "        self.itx = {}\n",
        "        c = 0\n",
        "        for i in range(cities):\n",
        "            for j in range(cities):\n",
        "                self.itx[c] = (i, j)\n",
        "                self.xti[(i, j)] = c\n",
        "                c += 1\n",
        "\n",
        "    def hardlimit(self, x):\n",
        "        result = (1+np.tanh(50.0*x)) / 2\n",
        "        return result\n",
        "\n",
        "\n",
        "    def Find_Optimal_Ans(self, A, B, C, D, iterations):\n",
        "        list_E = []\n",
        "        self.create_weights(A, B, C, D)\n",
        "        u = np.zeros([self.neurons, 1])\n",
        "        for i in range(self.cities):\n",
        "          u[i][0] = uniform(0, 0.03)\n",
        "        prev_E = self.Energy(u, A, B, C, D)\n",
        "        repeated = 0\n",
        "        max_repeat = 10\n",
        "        for iteration in range(iterations):\n",
        "            u = self.update(u, C)\n",
        "            #u = self.SimulatedAnnealing(u, C, iteration)\n",
        "            E = self.Energy(u, A, B, C, D)\n",
        "            list_E = np.append(list_E, E)\n",
        "            if E == prev_E:\n",
        "                repeated += 1\n",
        "            else:\n",
        "                repeated = 0\n",
        "\n",
        "            if repeated > max_repeat:\n",
        "                break\n",
        "            prev_E = E\n",
        "        ret = np.zeros([self.cities, self.cities])\n",
        "        for i in range(self.cities):\n",
        "            for j in range(self.cities):\n",
        "                ret[i][j] = u[self.xti[(i, j)]][0]\n",
        "\n",
        "        plt.xlim(0,100)\n",
        "        plt.plot([i for i in range(len(list_E))], list_E)\n",
        "        plt.show()    \n",
        "        return ret\n",
        "\n",
        "    def create_weights(self, A, B, C, D):\n",
        "        n = self.cities\n",
        "        for i in range(n):\n",
        "          for a in range(n):\n",
        "            for j in range(n):\n",
        "              for b in range(n):\n",
        "                wc = -C\n",
        "                wa = -A*(1-kdelta(a, b))*kdelta(i, j)\n",
        "                wb = -B*(1-kdelta(i, j))*kdelta(a, b)\n",
        "                wd = -D*self.d[i][j]*(1-kdelta(i, j))*(kdelta(a-1, b) + kdelta(a+1, b))\n",
        "                self.w[self.xti[(i, a)]][self.xti[(j, b)]] = wa + wb + wc + wd\n",
        "\n",
        "    def update(self, u, C):\n",
        "        n = self.cities\n",
        "        for iteration in range(5*n**2):\n",
        "            i = randint(0, n-1)\n",
        "            x = randint(0, n-1)\n",
        "            u[self.xti[(i, x)]][0] = self.hardlimit(np.dot(u.transpose(), self.w[:, self.xti[(i, x)]]) + C*(n+1))\n",
        "        return u\n",
        "\n",
        "    def SimulatedAnnealing(self, u, C, t):\n",
        "        n = self.cities\n",
        "        T = self.T* (0.9)**(t)\n",
        "        #print(T)\n",
        "        for iteration in range(5*n**2):\n",
        "            i = randint(0, n-1)\n",
        "            x = randint(0, n-1)\n",
        "            Net = np.dot(u.transpose(), self.w[:, self.xti[(i, x)]]) + C*(n+1)\n",
        "            P1 = 1 / (1+np.exp(-Net/T))\n",
        "            r = uniform(0,1)\n",
        "            if r < P1 : \n",
        "              u[self.xti[(i, x)]][0] = 1\n",
        "            else:\n",
        "              u[self.xti[(i, x)]][0] = 0\n",
        "        return u\n",
        "\n",
        "    def Energy(self, u, A, B, C, D):\n",
        "        tmpA = 0\n",
        "        n = self.cities\n",
        "        for i in range(n):\n",
        "            for a in range(n):\n",
        "                for b in range(n):\n",
        "                    if a != b:\n",
        "                        tmpA += u[self.xti[(i, a)]][0] * u[self.xti[(i, b)]][0]\n",
        "        tmpA *= (A/2.0)\n",
        "\n",
        "        tmpB = 0\n",
        "        for i in range(n):\n",
        "            for j in range(n):\n",
        "                for a in range(n):\n",
        "                    if i != j:\n",
        "                        tmpB += u[self.xti[(i, a)]][0] * u[self.xti[(j, a)]][0]\n",
        "        tmpB *= (B/2.0)\n",
        "\n",
        "        tmpC = 0\n",
        "        for i in range(n):\n",
        "            for a in range(n):\n",
        "                tmpC += u[self.xti[(i, a)]][0]\n",
        "        tmpC = (tmpC - n)**2\n",
        "        tmpC *= (C/2.0)\n",
        "\n",
        "        tmpD = 0\n",
        "        for i in range(n):\n",
        "            for j in range(n):\n",
        "                for a in range(n):\n",
        "                    if 0 < a < n-1:\n",
        "                        tmpD += self.d[i][j]*u[self.xti[(i, a)]][0]*(u[self.xti[(j, a+1)]][0] + u[self.xti[(j, a-1)]][0])\n",
        "                    elif a > 0:\n",
        "                        tmpD += self.d[i][j]*u[self.xti[(i, a)]][0]*(u[self.xti[(j, a-1)]][0] + u[self.xti[(j, 0)]][0])\n",
        "                    elif a < n-1:\n",
        "                        tmpD += self.d[i][j]*u[self.xti[(i, a)]][0]*(u[self.xti[(j, a+1)]][0] + u[self.xti[(j, n-1)]][0])\n",
        "        tmpD *= (D/2.0)\n",
        "\n",
        "        return tmpA + tmpB + tmpC + tmpD"
      ],
      "execution_count": 0,
      "outputs": []
    },
    {
      "cell_type": "code",
      "metadata": {
        "id": "gied4UqBLvmV",
        "colab_type": "code",
        "outputId": "5abdab2d-3942-4065-f36b-c844d3dc01f2",
        "colab": {
          "base_uri": "https://localhost:8080/",
          "height": 915
        }
      },
      "source": [
        "def distance(cities):\n",
        "\tn = cities.shape[0]\n",
        "\td = np.zeros([n, n])\n",
        "\tfor i in range(n):\n",
        "\t\tfor j in range(n):\n",
        "\t\t\td[i][j] = np.sqrt((cities[i][0]-cities[j][0])**2 + (cities[i][1]-cities[j][1])**2)\n",
        "\treturn d\n",
        "\n",
        "def set_cities(n):\n",
        "  city = np.zeros([n, 2])\n",
        "  for i in range(n):\n",
        "    city[i] = np.random.random((1,2))\n",
        "  print(city)  \n",
        "  return city  \n",
        "\n",
        "number_city = 20\n",
        "dist = np.zeros([number_city, number_city])\n",
        "city = set_cities(number_city)\n",
        "dist = distance(city)\n",
        "hop = Hopfield(number_city, dist)\n",
        "res = hop.Find_Optimal_Ans(100.0, 100.0, 90.0, 100.0, 500)\n",
        "plt.show()\n",
        "print(res)\n"
      ],
      "execution_count": 56,
      "outputs": [
        {
          "output_type": "stream",
          "text": [
            "[[5.30286844e-01 1.71196394e-01]\n",
            " [5.86282333e-01 9.32508388e-01]\n",
            " [4.05514556e-01 7.45455228e-01]\n",
            " [9.41726664e-01 6.09958420e-02]\n",
            " [2.20454641e-01 3.14563391e-01]\n",
            " [5.40181199e-01 3.31169413e-01]\n",
            " [4.94632503e-01 5.07373248e-04]\n",
            " [6.16496135e-01 5.60690673e-01]\n",
            " [6.82853958e-01 3.65888756e-01]\n",
            " [1.81524282e-01 1.95775539e-01]\n",
            " [8.45048500e-01 6.69463027e-01]\n",
            " [8.95017092e-02 9.35333941e-01]\n",
            " [9.32881484e-01 2.71843347e-01]\n",
            " [2.14653108e-01 5.28226313e-01]\n",
            " [7.58049320e-01 7.59405683e-01]\n",
            " [4.69776204e-01 7.02543019e-01]\n",
            " [6.59224413e-01 6.85869041e-01]\n",
            " [2.01987609e-01 5.04472781e-01]\n",
            " [2.70548246e-01 7.79492768e-01]\n",
            " [9.29265937e-01 5.62610480e-01]]\n"
          ],
          "name": "stdout"
        },
        {
          "output_type": "display_data",
          "data": {
            "image/png": "[encoded data removed]",
            "text/plain": [
              "<Figure size 432x288 with 1 Axes>"
            ]
          },
          "metadata": {
            "tags": [],
            "needs_background": "light"
          }
        },
        {
          "output_type": "stream",
          "text": [
            "[[0. 0. 0. 0. 0. 0. 0. 0. 0. 0. 0. 0. 0. 0. 0. 0. 1. 0. 0. 0.]\n",
            " [0. 0. 0. 0. 0. 0. 0. 1. 0. 0. 0. 0. 0. 0. 0. 0. 0. 0. 0. 0.]\n",
            " [0. 0. 0. 0. 0. 0. 0. 0. 0. 0. 1. 0. 0. 0. 0. 0. 0. 0. 0. 0.]\n",
            " [0. 0. 0. 0. 0. 0. 0. 0. 0. 0. 0. 0. 0. 0. 1. 0. 0. 0. 0. 0.]\n",
            " [0. 1. 0. 0. 0. 0. 0. 0. 0. 0. 0. 0. 0. 0. 0. 0. 0. 0. 0. 0.]\n",
            " [1. 0. 0. 0. 0. 0. 0. 0. 0. 0. 0. 0. 0. 0. 0. 0. 0. 0. 0. 0.]\n",
            " [0. 0. 0. 0. 0. 0. 0. 0. 0. 0. 0. 0. 0. 0. 0. 0. 0. 1. 0. 0.]\n",
            " [0. 0. 0. 0. 0. 0. 0. 0. 0. 0. 0. 1. 0. 0. 0. 0. 0. 0. 0. 0.]\n",
            " [0. 0. 0. 0. 0. 0. 0. 0. 0. 0. 0. 0. 0. 0. 0. 0. 0. 0. 1. 0.]\n",
            " [0. 0. 0. 1. 0. 0. 0. 0. 0. 0. 0. 0. 0. 0. 0. 0. 0. 0. 0. 0.]\n",
            " [0. 0. 0. 0. 0. 0. 0. 0. 0. 0. 0. 0. 0. 0. 0. 0. 0. 0. 0. 1.]\n",
            " [0. 0. 0. 0. 0. 1. 0. 0. 0. 0. 0. 0. 0. 0. 0. 0. 0. 0. 0. 0.]\n",
            " [0. 0. 0. 0. 0. 0. 0. 0. 0. 0. 0. 0. 0. 0. 0. 1. 0. 0. 0. 0.]\n",
            " [0. 0. 0. 0. 1. 0. 0. 0. 0. 0. 0. 0. 0. 0. 0. 0. 0. 0. 0. 0.]\n",
            " [0. 0. 0. 0. 0. 0. 0. 0. 1. 0. 0. 0. 0. 0. 0. 0. 0. 0. 0. 0.]\n",
            " [0. 0. 0. 0. 0. 0. 0. 0. 0. 1. 0. 0. 0. 0. 0. 0. 0. 0. 0. 0.]\n",
            " [0. 0. 0. 0. 0. 0. 0. 0. 0. 0. 0. 0. 1. 0. 0. 0. 0. 0. 0. 0.]\n",
            " [0. 0. 1. 0. 0. 0. 0. 0. 0. 0. 0. 0. 0. 0. 0. 0. 0. 0. 0. 0.]\n",
            " [0. 0. 0. 0. 0. 0. 1. 0. 0. 0. 0. 0. 0. 0. 0. 0. 0. 0. 0. 0.]\n",
            " [0. 0. 0. 0. 0. 0. 0. 0. 0. 0. 0. 0. 0. 1. 0. 0. 0. 0. 0. 0.]]\n"
          ],
          "name": "stdout"
        }
      ]
    }
  ]
}
