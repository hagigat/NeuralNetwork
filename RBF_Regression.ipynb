{
  "nbformat": 4,
  "nbformat_minor": 0,
  "metadata": {
    "colab": {
      "name": "RBF-Regression.ipynb",
      "provenance": [],
      "collapsed_sections": [],
      "authorship_tag": "ABX9TyM0+wfs7kE5o5dKd5RbA+VK",
      "include_colab_link": true
    },
    "kernelspec": {
      "name": "python3",
      "display_name": "Python 3"
    }
  },
  "cells": [
    {
      "cell_type": "markdown",
      "metadata": {
        "id": "view-in-github",
        "colab_type": "text"
      },
      "source": [
        "<a href=\"https://colab.research.google.com/github/hagigat/NeuralNetwork/blob/master/RBF_Regression.ipynb\" target=\"_parent\"><img src=\"https://colab.research.google.com/assets/colab-badge.svg\" alt=\"Open In Colab\"/></a>"
      ]
    },
    {
      "cell_type": "code",
      "metadata": {
        "id": "er49gApT0c5e",
        "colab_type": "code",
        "colab": {}
      },
      "source": [
        "import numpy as np\n",
        "import pandas as pd\n",
        "import matplotlib as plt\n",
        "import math\n",
        "import scipy.spatial.distance as sc\n",
        "from sklearn.metrics import accuracy_score"
      ],
      "execution_count": 0,
      "outputs": []
    },
    {
      "cell_type": "code",
      "metadata": {
        "id": "96oS_lpE0iJs",
        "colab_type": "code",
        "outputId": "59e8e8b1-6f70-475b-e595-00416888c35b",
        "colab": {
          "base_uri": "https://localhost:8080/",
          "height": 35
        }
      },
      "source": [
        "data = pd.read_csv(\"sample_data/california_housing_train.csv\")\n",
        "data = data.drop_duplicates()\n",
        "data = data.dropna().to_numpy()\n",
        "print(data.shape)\n",
        "X_train = data[0:14000, 0:8]\n",
        "Y_train = data[0:14000, 8]\n",
        "X_test = data[14000:16000, 0:8]\n",
        "Y_test = data[14000:16000, 8]"
      ],
      "execution_count": 0,
      "outputs": [
        {
          "output_type": "stream",
          "text": [
            "(17000, 9)\n"
          ],
          "name": "stdout"
        }
      ]
    },
    {
      "cell_type": "code",
      "metadata": {
        "id": "cjurDKmt0iei",
        "colab_type": "code",
        "colab": {}
      },
      "source": [
        "class RBF:\n",
        "    def __init__(self, X, Y):\n",
        "        self.nl = 0\n",
        "        self.X = self.normalize(X)\n",
        "        self.Y = self.Ynormalize(Y)\n",
        "        self.C = np.zeros((0, X.shape[1]))\n",
        "        self.weight = []\n",
        "        self.std = self.deviation()\n",
        "        self.nlmax = int(300)\n",
        "\n",
        "    def deviation(self):\n",
        "        return np.amax(sc.pdist(self.X, 'euclidean')) / np.sqrt(2 * self.X.shape[1])\n",
        "\n",
        "    def Gaussian(self):\n",
        "        ed = sc.cdist(self.X, self.C, 'euclidean')\n",
        "        return np.exp(-0.5 * ((ed / self.std) ** 2))\n",
        "\n",
        "    def tGaussian(self,X):\n",
        "        ed = sc.cdist(X, self.C, 'euclidean')\n",
        "        return np.exp(-0.5 * ((ed / self.std) ** 2))    \n",
        "\n",
        "    def w_opt(self, O, D):\n",
        "        tmp = np.linalg.inv(np.dot(O.T, O))\n",
        "        self.weight = np.dot(tmp, np.dot(O.T, D))\n",
        "\n",
        "    def normalize(self, X):\n",
        "        for i in range(X.shape[1]):\n",
        "            X[:, i] = (X[:, i] - X[:, i].mean()) / np.std(X[:, i])\n",
        "        return X\n",
        "\n",
        "    def Ynormalize(self, X):\n",
        "        X = (X - X.mean()) / np.std(X)\n",
        "        return X\n",
        "\n",
        "    def Train(self):\n",
        "        # RBF Train\n",
        "        Xt = self.X.copy()\n",
        "        for i in range(self.nlmax):\n",
        "            self.nl += 1\n",
        "            idx = np.random.randint(0, (self.X.shape[0]-1) - i)\n",
        "            self.C = np.append(self.C, [Xt[idx]], axis=0)\n",
        "            Xt = np.delete(Xt, idx, 0)\n",
        "            O = self.Gaussian()\n",
        "            O = np.c_[O, np.ones(len(self.X))]\n",
        "            self.w_opt(O, self.Y)\n",
        "            y = np.dot(O, self.weight)\n",
        "            mse = np.sum((y-self.Y)**2) / self.X.shape[0]\n",
        "            print(\"NL = \",self.nl, \"-----> MSE :\",\"%.4f\" % mse)\n",
        "            if mse < 0.3:\n",
        "                break\n",
        "        print(\"nl : \", self.nl)\n",
        "        print(\"C : \", self.C.shape)\n",
        "        print(\"W : \", self.weight.shape)\n",
        "                \n",
        "\n",
        "    def Test(self, X, Y):\n",
        "        # RBF Test\n",
        "        O = self.tGaussian(X)\n",
        "        O = np.c_[O, np.ones(len(X))]\n",
        "        y = np.dot(O, self.weight)\n",
        "        mse = np.sum((y-Y)**2) / X.shape[0]\n",
        "        print(\"> MSE :\",\"%.4f\" % mse)\n"
      ],
      "execution_count": 0,
      "outputs": []
    },
    {
      "cell_type": "code",
      "metadata": {
        "id": "lLAA0uOp0pmy",
        "colab_type": "code",
        "outputId": "6584466d-7a69-424d-bf4e-079e20fba04e",
        "colab": {
          "base_uri": "https://localhost:8080/",
          "height": 708
        }
      },
      "source": [
        "rbf = RBF(X_train, Y_train)\n",
        "rbf.Train()"
      ],
      "execution_count": 0,
      "outputs": [
        {
          "output_type": "stream",
          "text": [
            "NL =  1 -----> MSE : 0.9993\n",
            "NL =  2 -----> MSE : 0.9144\n",
            "NL =  3 -----> MSE : 0.8190\n",
            "NL =  4 -----> MSE : 0.4928\n",
            "NL =  5 -----> MSE : 0.4870\n",
            "NL =  6 -----> MSE : 0.4703\n",
            "NL =  7 -----> MSE : 0.4581\n",
            "NL =  8 -----> MSE : 0.4578\n",
            "NL =  9 -----> MSE : 0.4572\n",
            "NL =  10 -----> MSE : 0.3995\n",
            "NL =  11 -----> MSE : 0.3747\n",
            "NL =  12 -----> MSE : 0.3677\n",
            "NL =  13 -----> MSE : 0.3658\n",
            "NL =  14 -----> MSE : 0.3649\n",
            "NL =  15 -----> MSE : 0.3543\n",
            "NL =  16 -----> MSE : 0.3536\n",
            "NL =  17 -----> MSE : 0.3524\n",
            "NL =  18 -----> MSE : 0.3524\n",
            "NL =  19 -----> MSE : 0.3428\n",
            "NL =  20 -----> MSE : 0.3312\n",
            "NL =  21 -----> MSE : 0.3300\n",
            "NL =  22 -----> MSE : 0.3269\n",
            "NL =  23 -----> MSE : 0.3262\n",
            "NL =  24 -----> MSE : 0.3149\n",
            "NL =  25 -----> MSE : 0.3129\n",
            "NL =  26 -----> MSE : 0.3125\n",
            "NL =  27 -----> MSE : 0.3123\n",
            "NL =  28 -----> MSE : 0.3110\n",
            "NL =  29 -----> MSE : 0.3107\n",
            "NL =  30 -----> MSE : 0.3104\n",
            "NL =  31 -----> MSE : 0.3094\n",
            "NL =  32 -----> MSE : 0.3094\n",
            "NL =  33 -----> MSE : 0.3071\n",
            "NL =  34 -----> MSE : 0.3064\n",
            "NL =  35 -----> MSE : 0.2987\n",
            "nl :  35\n",
            "C :  (35, 8)\n",
            "W :  (36,)\n"
          ],
          "name": "stdout"
        }
      ]
    },
    {
      "cell_type": "code",
      "metadata": {
        "id": "kuFJHlPY0ioR",
        "colab_type": "code",
        "outputId": "c837b009-dc80-4c40-8f52-46c9cc58e5f5",
        "colab": {
          "base_uri": "https://localhost:8080/",
          "height": 35
        }
      },
      "source": [
        "X_test = rbf.normalize(X_test)\n",
        "Y_test = rbf.Ynormalize(Y_test)\n",
        "rbf.Test(X_test,Y_test)"
      ],
      "execution_count": 0,
      "outputs": [
        {
          "output_type": "stream",
          "text": [
            "> MSE : 0.5738\n"
          ],
          "name": "stdout"
        }
      ]
    }
  ]
}