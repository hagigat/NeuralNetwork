{
  "nbformat": 4,
  "nbformat_minor": 0,
  "metadata": {
    "colab": {
      "name": "SOM-RBF.ipynb",
      "provenance": [],
      "collapsed_sections": [],
      "authorship_tag": "ABX9TyO+LouDzQo4dvRcVfjIHlm1",
      "include_colab_link": true
    },
    "kernelspec": {
      "name": "python3",
      "display_name": "Python 3"
    }
  },
  "cells": [
    {
      "cell_type": "markdown",
      "metadata": {
        "id": "view-in-github",
        "colab_type": "text"
      },
      "source": [
        "<a href=\"https://colab.research.google.com/github/hagigat/NeuralNetwork/blob/master/SOM_RBF.ipynb\" target=\"_parent\"><img src=\"https://colab.research.google.com/assets/colab-badge.svg\" alt=\"Open In Colab\"/></a>"
      ]
    },
    {
      "cell_type": "code",
      "metadata": {
        "id": "Xvo41wK5SajF",
        "colab_type": "code",
        "colab": {}
      },
      "source": [
        "import numpy as np\n",
        "import pandas as pd\n",
        "import matplotlib as plt\n",
        "import math\n",
        "import scipy.spatial.distance as sc\n",
        "from sklearn.metrics import accuracy_score"
      ],
      "execution_count": 0,
      "outputs": []
    },
    {
      "cell_type": "code",
      "metadata": {
        "id": "mYGzhosOVQU6",
        "colab_type": "code",
        "colab": {}
      },
      "source": [
        "data = pd.read_csv(\"pima_indians_diabetes.csv\", header=None)\n",
        "data = data.dropna().to_numpy()\n",
        "X_train = data[0:650, 0:8]\n",
        "Y_train = data[0:650, 8]\n",
        "X_test = data[650:760, 0:8]\n",
        "Y_test = data[650:760, 8]"
      ],
      "execution_count": 0,
      "outputs": []
    },
    {
      "cell_type": "code",
      "metadata": {
        "id": "qIBPpJCDVTN3",
        "colab_type": "code",
        "colab": {}
      },
      "source": [
        "class RBF:\n",
        "    def __init__(self, X, Y):\n",
        "        self.nl = 0\n",
        "        self.X = self.normalize(X)\n",
        "        self.Y = Y\n",
        "        self.C = []\n",
        "        self.weight = []\n",
        "        self.std = self.deviation()\n",
        "\n",
        "    def deviation(self):\n",
        "        return np.amax(sc.pdist(self.X, 'euclidean')) / np.sqrt(2 * self.X.shape[1])\n",
        "\n",
        "    def Gaussian(self,):\n",
        "        ed = sc.cdist(self.X, self.C, 'euclidean')\n",
        "        return np.exp( -0.5 * ((ed ** 2) / (self.std ** 2)))\n",
        "\n",
        "    def tGaussian(self,X):\n",
        "        ed = sc.cdist(X, self.C, 'euclidean')\n",
        "        return np.exp( -0.5 * ((ed ** 2) / (self.std ** 2)))\n",
        "\n",
        "    def nGaussian(self, a ,b):\n",
        "        ed = sc.euclidean(a, b)\n",
        "        return np.exp( -0.5 * ((ed ** 2) / (self.std ** 2)))        \n",
        "\n",
        "    def w_opt(self, O, D):\n",
        "        tmp = np.linalg.inv(np.dot(O.T, O))\n",
        "        self.weight = np.dot(tmp, np.dot(O.T, D))\n",
        "\n",
        "    def normalize(self, X):\n",
        "        for i in range(X.shape[1]):\n",
        "            X[:, i] = (X[:, i] - X[:, i].mean()) / np.std(X[:, i])\n",
        "        return X\n",
        "\n",
        "    def SOM(self, N):\n",
        "        etha = 1.01\n",
        "        win = np.zeros((N,N))\n",
        "        R = int(N/2 + 1) \n",
        "        w = np.random.random((N, N, self.X.shape[1]))\n",
        "        while R!=0:\n",
        "          R = R -1\n",
        "          for i in range(10*self.X.shape[0]):\n",
        "            idx = np.random.randint(0, (self.X.shape[0] -1))\n",
        "            row = self.X[idx]\n",
        "            for j in range(w.shape[0]):\n",
        "              for k in range(w.shape[1]):\n",
        "                win[j][k] = self.nGaussian(row , w[j][k])\n",
        "            ind = np.unravel_index(np.argmax(win, axis=None), win.shape)\n",
        "            imin = ind[0] - R if ind[0] - R >= 0 else 0\n",
        "            imax = ind[0] + R if ind[0] + R < N else N-1\n",
        "            jmin = ind[1] - R if ind[1] - R >= 0 else 0\n",
        "            jmax = ind[1] + R if ind[1] + R < N else N-1\n",
        "            for j in range(imin,imax):\n",
        "              for k in range(jmin , jmax):\n",
        "                w[j][k] = w[j][k] + etha * (row - w[j][k]) \n",
        "\n",
        "        w = w.reshape(N*N , self.X.shape[1])\n",
        "        return w\n",
        "\n",
        "\n",
        "    def Train(self):\n",
        "        # RBF Train\n",
        "        self.C = self.SOM(N=7)\n",
        "        print(self.C.shape)\n",
        "        O = self.Gaussian()\n",
        "        O = np.c_[O, np.ones(len(self.X))]\n",
        "        print(O.shape)\n",
        "        self.w_opt(O, self.Y)\n",
        "        y = self.act_fun(np.dot(O, self.weight))\n",
        "        mse = np.sum((y-self.Y)**2) / self.X.shape[0]\n",
        "        print(\"-----> MSE :\",\"%.4f\" % mse,\" , Accuracy: \",\"%.1f\" % (accuracy_score(self.Y, y)*100))\n",
        "\n",
        "    def Test(self, X, Y):\n",
        "        # RBF Test\n",
        "        O = self.tGaussian(X)\n",
        "        O = np.c_[O, np.ones(len(X))]\n",
        "        y = self.act_fun(np.dot(O, self.weight))\n",
        "        mse = np.sum((y-Y)**2) / X.shape[0]\n",
        "        print(\"> MSE :\",\"%.4f\" % mse,\" , Accuracy: \",\"%.1f\" % (accuracy_score(Y, y)*100))\n",
        "\n",
        "\n",
        "    def act_fun(self, z):  # sigmoid\n",
        "        result = 1.0 / (1.0 + np.exp(-z))\n",
        "        result[result >= 0.5] = 1\n",
        "        result[result < 0.5] = 0\n",
        "        return result\n"
      ],
      "execution_count": 0,
      "outputs": []
    },
    {
      "cell_type": "code",
      "metadata": {
        "id": "BcIHYcwKVUOI",
        "colab_type": "code",
        "outputId": "4b47d804-0b36-497d-97f5-a060e97253aa",
        "colab": {
          "base_uri": "https://localhost:8080/",
          "height": 68
        }
      },
      "source": [
        "rbf = RBF(X_train, Y_train)\n",
        "rbf.Train()"
      ],
      "execution_count": 13,
      "outputs": [
        {
          "output_type": "stream",
          "text": [
            "(49, 8)\n",
            "(650, 50)\n",
            "-----> MSE : 0.3000  , Accuracy:  70.0\n"
          ],
          "name": "stdout"
        }
      ]
    },
    {
      "cell_type": "code",
      "metadata": {
        "id": "ksLty4bcVbgi",
        "colab_type": "code",
        "outputId": "689c2ca4-0f1f-4cea-95fd-952c10ddd07e",
        "colab": {
          "base_uri": "https://localhost:8080/",
          "height": 34
        }
      },
      "source": [
        "X_test = rbf.normalize(X_test)\n",
        "rbf.Test(X_test,Y_test)"
      ],
      "execution_count": 14,
      "outputs": [
        {
          "output_type": "stream",
          "text": [
            "> MSE : 0.2818  , Accuracy:  71.8\n"
          ],
          "name": "stdout"
        }
      ]
    }
  ]
}